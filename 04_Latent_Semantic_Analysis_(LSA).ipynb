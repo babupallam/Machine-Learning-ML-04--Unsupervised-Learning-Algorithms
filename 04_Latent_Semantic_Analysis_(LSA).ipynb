{
  "nbformat": 4,
  "nbformat_minor": 0,
  "metadata": {
    "colab": {
      "provenance": [],
      "authorship_tag": "ABX9TyMTklUlcUyYLOhlKW4eB0V6",
      "include_colab_link": true
    },
    "kernelspec": {
      "name": "python3",
      "display_name": "Python 3"
    },
    "language_info": {
      "name": "python"
    }
  },
  "cells": [
    {
      "cell_type": "markdown",
      "metadata": {
        "id": "view-in-github",
        "colab_type": "text"
      },
      "source": [
        "<a href=\"https://colab.research.google.com/github/babupallam/Unsupervised-Learning-Algorithms/blob/main/04_Latent_Semantic_Analysis_(LSA).ipynb\" target=\"_parent\"><img src=\"https://colab.research.google.com/assets/colab-badge.svg\" alt=\"Open In Colab\"/></a>"
      ]
    },
    {
      "cell_type": "markdown",
      "source": [
        "# Latent Semantic Analysis (LSA)\n",
        "\n",
        "### Latent Semantic Analysis (LSA) Overview\n",
        "\n",
        "**Latent Semantic Analysis (LSA)**, also known as **Latent Semantic Indexing (LSI)** when used in information retrieval, is a technique in natural language processing and text mining that analyzes relationships between a set of documents and the terms they contain. It is an unsupervised learning algorithm that uncovers latent (hidden) structures in the data by analyzing the co-occurrence patterns of words in a large collection of documents.\n",
        "\n",
        "LSA is particularly effective in understanding the deeper meaning of texts by identifying patterns that aren't immediately obvious through word frequency alone. It's widely used in fields like information retrieval, text summarization, and document clustering.\n",
        "\n",
        "### Key Concepts of LSA\n",
        "\n",
        "1. **Term-Document Matrix**:\n",
        "   - The starting point of LSA is the creation of a term-document matrix (TDM), where each row corresponds to a unique term (word) and each column corresponds to a document. The cells in this matrix represent the frequency of terms in each document.\n",
        "   - Example: If you have three documents and four terms, the matrix might look like this:\n",
        "     ```\n",
        "     D1  D2  D3\n",
        "     T1  1   0   2\n",
        "     T2  0   1   0\n",
        "     T3  1   1   0\n",
        "     T4  0   0   3\n",
        "     ```\n",
        "     Here, T1 appears once in D1 and twice in D3, T2 appears once in D2, and so on.\n",
        "\n",
        "2. **Singular Value Decomposition (SVD)**:\n",
        "   - LSA applies Singular Value Decomposition (SVD) to the term-document matrix. SVD decomposes this matrix into three matrices: U (term-topic), Σ (singular values), and V^T (document-topic).\n",
        "   - **U Matrix**: Represents terms and their relationships to latent topics.\n",
        "   - **Σ Matrix**: Contains the singular values, which are diagonal elements indicating the importance of each latent topic.\n",
        "   - **V^T Matrix**: Represents documents and their relationships to latent topics.\n",
        "   - The decomposition helps reduce noise by focusing on the most significant patterns (latent topics) and ignoring the less significant ones.\n",
        "\n",
        "3. **Dimensionality Reduction**:\n",
        "   - By retaining only the top k singular values and corresponding vectors in U and V^T, LSA reduces the dimensionality of the data, simplifying the relationships and focusing on the most important patterns.\n",
        "   - This reduction helps in dealing with synonymy (different words with similar meanings) and polysemy (same word with different meanings).\n",
        "\n",
        "4. **Latent Semantic Space**:\n",
        "   - The reduced matrices represent a latent semantic space where both terms and documents are mapped to vectors in this space. The proximity of these vectors indicates the semantic similarity between terms or documents.\n",
        "   - In this space, documents that are semantically similar will have similar vectors, even if they don't share many common words.\n",
        "\n",
        "### Applications of LSA\n",
        "\n",
        "1. **Information Retrieval**:\n",
        "   - LSA is often used in search engines to improve search results by matching queries with documents that are semantically similar rather than just matching keywords.\n",
        "\n",
        "2. **Text Summarization**:\n",
        "   - By identifying the most significant topics and their corresponding sentences, LSA can generate summaries of documents that capture the essential meaning.\n",
        "\n",
        "3. **Document Clustering and Classification**:\n",
        "   - LSA helps in grouping similar documents together, making it useful for organizing large datasets and for tasks like topic modeling.\n",
        "\n",
        "4. **Recommendation Systems**:\n",
        "   - LSA can be used to recommend documents, articles, or other content based on the latent topics they contain, improving the relevance of recommendations.\n",
        "\n",
        "5. **Plagiarism Detection**:\n",
        "   - By comparing the semantic content of documents, LSA can be employed to detect plagiarism even when the text is paraphrased.\n",
        "\n",
        "### Advantages of LSA\n",
        "\n",
        "- **Handles Synonymy and Polysemy**: LSA can identify synonyms and reduce the impact of polysemy, leading to more accurate semantic analysis.\n",
        "- **Dimensionality Reduction**: SVD helps in reducing the complexity of large datasets, making them easier to analyze.\n",
        "- **Unsupervised Learning**: LSA doesn't require labeled data, making it versatile and easy to apply in various contexts.\n",
        "\n",
        "### Disadvantages of LSA\n",
        "\n",
        "- **Interpretability**: The latent topics identified by LSA may not always be interpretable or meaningful in a human-understandable way.\n",
        "- **Computational Complexity**: SVD can be computationally expensive, especially for very large datasets.\n",
        "- **Linear Relationships**: LSA assumes linear relationships between terms and documents, which may not capture more complex, non-linear relationships.\n",
        "- **Sensitivity to Term Weighting**: The performance of LSA can be highly dependent on how the term-document matrix is weighted (e.g., using term frequency, TF-IDF, etc.).\n",
        "\n",
        "### Implementation of LSA\n",
        "\n",
        "LSA can be implemented using various programming languages and tools. Here's a basic outline of how LSA can be implemented in Python using the `scikit-learn` library:\n",
        "\n",
        "```python\n",
        "from sklearn.decomposition import TruncatedSVD\n",
        "from sklearn.feature_extraction.text import TfidfVectorizer\n",
        "\n",
        "# Sample documents\n",
        "documents = [\n",
        "    \"The cat in the hat.\",\n",
        "    \"The cat is on the mat.\",\n",
        "    \"Dogs are on the mat.\",\n",
        "    \"The mat is green.\"\n",
        "]\n",
        "\n",
        "# Convert documents to a matrix of TF-IDF features\n",
        "vectorizer = TfidfVectorizer()\n",
        "X = vectorizer.fit_transform(documents)\n",
        "\n",
        "# Apply LSA using Truncated SVD\n",
        "lsa = TruncatedSVD(n_components=2)  # Number of latent topics\n",
        "X_reduced = lsa.fit_transform(X)\n",
        "\n",
        "# Print the resulting components\n",
        "print(X_reduced)\n",
        "```\n"
      ],
      "metadata": {
        "id": "MepdqurzoWxq"
      }
    },
    {
      "cell_type": "markdown",
      "source": [
        "# Applications of the model\n",
        "\n",
        "\n",
        "### 1. **Information Retrieval and Search Engines**\n",
        "   - **Improved Query Matching**: LSA enhances search engines by improving the accuracy of query matching. Instead of relying solely on keyword matches, LSA identifies documents that are semantically similar to the search query, even if the exact keywords are not present.\n",
        "   - **Cross-Language Information Retrieval**: LSA can be used in multilingual search engines to find documents in different languages that share the same underlying concepts, thereby overcoming language barriers.\n",
        "\n",
        "### 2. **Document Clustering and Classification**\n",
        "   - **Topic Modeling**: LSA is often used to group documents into clusters based on latent topics, which helps in organizing large text corpora. This can be useful in areas like digital libraries, content management systems, and social media analysis.\n",
        "   - **Classification Tasks**: In supervised learning scenarios, LSA can be combined with classification algorithms to categorize documents into predefined categories, such as spam detection, sentiment analysis, or topic classification.\n",
        "\n",
        "### 3. **Text Summarization**\n",
        "   - **Extractive Summarization**: LSA helps in summarizing documents by identifying the most representative sentences that capture the core topics of the text. This is especially useful in creating concise summaries for large documents or news articles.\n",
        "   - **Automatic Abstract Generation**: In research and academic fields, LSA can be used to automatically generate abstracts for papers by focusing on the most significant concepts discussed.\n",
        "\n",
        "### 4. **Recommendation Systems**\n",
        "   - **Content-Based Recommendations**: LSA can be applied in recommendation systems to suggest articles, books, or products based on the semantic similarity between the user’s interests and available content. For instance, in online bookstores or news websites, LSA can help recommend books or articles that align with the user's reading history.\n",
        "   - **Personalized Content**: By analyzing user behavior and document content, LSA helps in delivering personalized content recommendations across various platforms.\n",
        "\n",
        "### 5. **Sentiment Analysis**\n",
        "   - **Contextual Sentiment Understanding**: While traditional sentiment analysis often relies on keyword-based methods, LSA helps in understanding the context and semantics behind user opinions, leading to more accurate sentiment categorization.\n",
        "   - **Aspect-Based Sentiment Analysis**: LSA can be used to analyze customer reviews by identifying specific aspects of a product or service that are being discussed and the sentiments associated with those aspects.\n",
        "\n",
        "### 6. **Plagiarism Detection**\n",
        "   - **Paraphrase Detection**: LSA can detect plagiarism even when the copied content is paraphrased or rewritten. By comparing the semantic content of documents, LSA identifies similarities that might not be apparent through simple keyword matching.\n",
        "   - **Cross-Document Analysis**: LSA is used to compare documents across large databases to identify potential cases of content reuse or unauthorized copying.\n",
        "\n",
        "### 7. **Text Mining and Knowledge Discovery**\n",
        "   - **Conceptual Mapping**: In fields like market research or academic research, LSA helps in identifying emerging trends or underlying themes across large sets of documents, which can be critical for decision-making and strategy development.\n",
        "   - **Information Extraction**: LSA aids in extracting meaningful information from unstructured text data, helping to uncover relationships between concepts that are not explicitly stated.\n",
        "\n",
        "### 8. **Machine Translation**\n",
        "   - **Semantic Alignment**: LSA can be used in machine translation systems to align the meaning of sentences or paragraphs between languages, improving the quality of translations by focusing on the underlying concepts rather than just word-to-word translation.\n",
        "\n",
        "### 9. **Content Filtering and Spam Detection**\n",
        "   - **Email Filtering**: LSA can be employed to filter out spam emails by analyzing the latent semantic content of emails and distinguishing between legitimate communication and spam.\n",
        "   - **Content Moderation**: In social media or online communities, LSA can help moderate content by identifying posts or comments that violate community guidelines based on their semantic content.\n",
        "\n",
        "### 10. **Cognitive Science and Psychology**\n",
        "   - **Modeling Human Semantic Memory**: LSA is used to model how humans understand and organize knowledge. It helps in understanding how people group concepts together and retrieve information based on semantic relationships.\n",
        "   - **Language Acquisition Studies**: Researchers use LSA to study how language learners acquire vocabulary and understand the meanings of words based on the context in which they appear.\n",
        "\n",
        "### 11. **Customer Feedback Analysis**\n",
        "   - **Survey Analysis**: LSA can be applied to analyze open-ended responses in surveys, identifying key themes and sentiments expressed by respondents.\n",
        "   - **Customer Support**: LSA helps in automatically categorizing and routing customer support tickets based on the issues described, improving response times and customer satisfaction.\n",
        "\n",
        "### 12. **Legal Document Analysis**\n",
        "   - **Contract Analysis**: In the legal field, LSA can be used to analyze contracts and legal documents to identify key clauses, detect similarities between different documents, or even highlight potential risks.\n",
        "   - **Case Law Research**: LSA helps legal professionals find relevant case law by matching the semantic content of past cases with current cases being studied.\n",
        "\n",
        "### 13. **Healthcare and Biomedical Research**\n",
        "   - **Literature Review**: LSA aids researchers in the biomedical field by clustering related research papers, helping to identify connections between studies that are not immediately obvious.\n",
        "   - **Medical Record Analysis**: LSA can be used to analyze electronic health records (EHRs) to identify patterns in patient histories, aiding in diagnosis and treatment planning.\n",
        "\n"
      ],
      "metadata": {
        "id": "xH5UgFmAovGh"
      }
    },
    {
      "cell_type": "markdown",
      "source": [
        "# Application 1: Information Retrieval and Search Engines"
      ],
      "metadata": {
        "id": "RG7sPpFRo-v8"
      }
    },
    {
      "cell_type": "code",
      "execution_count": 1,
      "metadata": {
        "id": "GKCSVKsboVHJ"
      },
      "outputs": [],
      "source": [
        "from sklearn.feature_extraction.text import TfidfVectorizer\n",
        "from sklearn.decomposition import TruncatedSVD\n",
        "from sklearn.metrics.pairwise import cosine_similarity\n",
        "import numpy as np"
      ]
    },
    {
      "cell_type": "code",
      "source": [
        "\n",
        "# Step 2: Create a small document corpus (We create a small list of documents that serve as our dataset.)\n",
        "documents = [\n",
        "    \"The cat in the hat disabled feature in the house.\",\n",
        "    \"The quick brown fox jumps over the lazy dog.\",\n",
        "    \"A fast-moving vehicle drives through the busy street.\",\n",
        "    \"The dog plays in the park near the river.\",\n",
        "    \"Cats and dogs have different behaviors.\",\n",
        "    \"The car is fast and efficient on the road.\",\n",
        "    \"The road was long and tiring.\"\n",
        "]\n"
      ],
      "metadata": {
        "id": "ncAeqa_FpB_3"
      },
      "execution_count": 2,
      "outputs": []
    },
    {
      "cell_type": "code",
      "source": [
        "\n",
        "# Step 3: Apply TF-IDF Vectorization (We apply LSA using TruncatedSVD to reduce the dimensionality of the TF-IDF matrix, effectively capturing the latent semantic structure of the documents.)\n",
        "vectorizer = TfidfVectorizer(stop_words='english')\n",
        "X_tfidf = vectorizer.fit_transform(documents)"
      ],
      "metadata": {
        "id": "z8QramKIpDdA"
      },
      "execution_count": 3,
      "outputs": []
    },
    {
      "cell_type": "code",
      "source": [
        "# Step 4: Perform LSA Using Truncated SVD\n",
        "n_components = 2  # Number of topics\n",
        "lsa = TruncatedSVD(n_components=n_components)\n",
        "X_lsa = lsa.fit_transform(X_tfidf)"
      ],
      "metadata": {
        "id": "a6PcxVgppFUS"
      },
      "execution_count": 4,
      "outputs": []
    },
    {
      "cell_type": "code",
      "source": [
        "# Step 5: Query the Corpus\n",
        "query = \"fast car on the road\"\n",
        "query_tfidf = vectorizer.transform([query])\n",
        "query_lsa = lsa.transform(query_tfidf)"
      ],
      "metadata": {
        "id": "WKd2B3tGpGhE"
      },
      "execution_count": 5,
      "outputs": []
    },
    {
      "cell_type": "code",
      "source": [
        "\n",
        "# Step 6: Compute Similarity (We calculate the cosine similarity between the query and each document in the latent semantic space.  )\n",
        "similarity = cosine_similarity(query_lsa, X_lsa)"
      ],
      "metadata": {
        "id": "RwzgQNR9pHr1"
      },
      "execution_count": 6,
      "outputs": []
    },
    {
      "cell_type": "code",
      "source": [
        "\n",
        "# Step 7: Display the Results\n",
        "similarity_scores = similarity.flatten()\n",
        "ranked_indices = np.argsort(-similarity_scores)\n",
        "\n",
        "print(f\"Query: {query}\\n\")\n",
        "print(\"Documents ranked by similarity:\")\n",
        "for idx in ranked_indices:\n",
        "    print(f\"Document {idx+1}: {documents[idx]} (Similarity: {similarity_scores[idx]:.4f})\")"
      ],
      "metadata": {
        "colab": {
          "base_uri": "https://localhost:8080/"
        },
        "id": "d9yfM0EFpI5M",
        "outputId": "e5b51263-f18d-456a-9c11-a24d525d0841"
      },
      "execution_count": 7,
      "outputs": [
        {
          "output_type": "stream",
          "name": "stdout",
          "text": [
            "Query: fast car on the road\n",
            "\n",
            "Documents ranked by similarity:\n",
            "Document 3: A fast-moving vehicle drives through the busy street. (Similarity: 1.0000)\n",
            "Document 6: The car is fast and efficient on the road. (Similarity: 1.0000)\n",
            "Document 7: The road was long and tiring. (Similarity: 1.0000)\n",
            "Document 5: Cats and dogs have different behaviors. (Similarity: 0.1692)\n",
            "Document 2: The quick brown fox jumps over the lazy dog. (Similarity: 0.0000)\n",
            "Document 1: The cat in the hat disabled feature in the house. (Similarity: -0.0000)\n",
            "Document 4: The dog plays in the park near the river. (Similarity: -0.0000)\n"
          ]
        }
      ]
    },
    {
      "cell_type": "markdown",
      "source": [
        "# Application 2:  Document Clustering and Classification\n",
        "\n",
        "this will show how to cluster a set of documents into groups based on their semantic content."
      ],
      "metadata": {
        "id": "sMLQ0loYplpp"
      }
    },
    {
      "cell_type": "code",
      "source": [
        "import numpy as np\n",
        "import pandas as pd\n",
        "from sklearn.feature_extraction.text import TfidfVectorizer\n",
        "from sklearn.decomposition import TruncatedSVD\n",
        "from sklearn.cluster import KMeans\n",
        "from sklearn.preprocessing import Normalizer\n",
        "from sklearn.pipeline import make_pipeline\n",
        "import matplotlib.pyplot as plt\n"
      ],
      "metadata": {
        "id": "mQQeWWwwpKj4"
      },
      "execution_count": 8,
      "outputs": []
    },
    {
      "cell_type": "code",
      "source": [
        "# Sample documents\n",
        "documents = [\n",
        "    \"The cat in the hat.\",\n",
        "    \"The cat is on the mat.\",\n",
        "    \"Dogs are on the mat.\",\n",
        "    \"The mat is green.\",\n",
        "    \"The cat chased the mouse.\",\n",
        "    \"Dogs bark and cats meow.\",\n",
        "    \"The green mat is soft.\",\n",
        "    \"The mouse ran away.\",\n",
        "    \"Dogs like bones.\",\n",
        "    \"Cats like milk.\"\n",
        "]"
      ],
      "metadata": {
        "id": "HxqAmOpVpvXW"
      },
      "execution_count": 9,
      "outputs": []
    },
    {
      "cell_type": "code",
      "source": [
        "\n",
        "# Step 1: Convert documents to a matrix of TF-IDF features\n",
        "\n",
        "# The documents are converted into a Term Frequency-Inverse Document Frequency (TF-IDF) matrix using TfidfVectorizer. This matrix represents the importance of each word in each document relative to the entire corpus.\n",
        "\n",
        "vectorizer = TfidfVectorizer(stop_words='english')\n",
        "X = vectorizer.fit_transform(documents)\n"
      ],
      "metadata": {
        "id": "gAIoytECpwh-"
      },
      "execution_count": 17,
      "outputs": []
    },
    {
      "cell_type": "code",
      "source": [
        "\n",
        "# Step 2: Apply LSA using Truncated SVD\n",
        "n_components = 2  # Number of latent topics\n",
        "\n",
        "# LSA is applied using TruncatedSVD to reduce the dimensionality of the TF-IDF matrix, uncovering the latent semantic structure of the documents. We specify n_components=2, meaning we reduce the dimensionality to 2 components.\n",
        "\n",
        "lsa = TruncatedSVD(n_components=n_components)\n",
        "X_reduced = lsa.fit_transform(X)\n",
        "\n",
        "# Normalize the reduced data to make it more suitable for clustering\n",
        "normalizer = Normalizer(copy=False)\n",
        "X_reduced_normalized = normalizer.fit_transform(X_reduced)\n"
      ],
      "metadata": {
        "id": "5Wr2diYOp0GV"
      },
      "execution_count": 18,
      "outputs": []
    },
    {
      "cell_type": "code",
      "source": [
        "\n",
        "# Step 3: Perform K-means clustering\n",
        "n_clusters = 2  # Number of clusters\n",
        "\n",
        "# We apply the K-means algorithm to cluster the documents based on their reduced LSA features. We choose n_clusters=2 to group the documents into two clusters.\n",
        "kmeans = KMeans(n_clusters=n_clusters, random_state=42)\n",
        "kmeans.fit(X_reduced_normalized)\n",
        "labels = kmeans.labels_\n"
      ],
      "metadata": {
        "colab": {
          "base_uri": "https://localhost:8080/"
        },
        "id": "G_UKuDOOp1Da",
        "outputId": "ff59d875-c995-427b-8eeb-3a7d182a1c59"
      },
      "execution_count": 19,
      "outputs": [
        {
          "output_type": "stream",
          "name": "stderr",
          "text": [
            "/usr/local/lib/python3.10/dist-packages/sklearn/cluster/_kmeans.py:1416: FutureWarning: The default value of `n_init` will change from 10 to 'auto' in 1.4. Set the value of `n_init` explicitly to suppress the warning\n",
            "  super()._check_params_vs_input(X, default_n_init=10)\n"
          ]
        }
      ]
    },
    {
      "cell_type": "code",
      "source": [
        "\n",
        "# Step 4: Visualize the clusters\n",
        "# The results are visualized in a 2D plot where each document is represented as a point, and colors indicate cluster assignments.\n",
        "plt.figure(figsize=(10, 7))\n",
        "colors = ['red', 'blue']\n",
        "for i in range(len(documents)):\n",
        "    plt.scatter(X_reduced_normalized[i, 0], X_reduced_normalized[i, 1],\n",
        "                color=colors[labels[i]], label=f'Doc {i+1}')\n",
        "\n",
        "plt.title('Document Clusters based on LSA')\n",
        "plt.xlabel('Component 1')\n",
        "plt.ylabel('Component 2')\n",
        "plt.grid(True)\n",
        "plt.show()\n"
      ],
      "metadata": {
        "colab": {
          "base_uri": "https://localhost:8080/",
          "height": 641
        },
        "id": "FsGbqGaop18E",
        "outputId": "e47ee38a-b5b6-4fd2-ff4a-748830e6f963"
      },
      "execution_count": 20,
      "outputs": [
        {
          "output_type": "display_data",
          "data": {
            "text/plain": [
              "<Figure size 1000x700 with 1 Axes>"
            ],
            "image/png": "[encoded data removed]"
          },
          "metadata": {}
        }
      ]
    },
    {
      "cell_type": "code",
      "source": [
        "# Step 5: Display the cluster assignments\n",
        "cluster_assignments = pd.DataFrame({'Document': documents, 'Cluster': labels})\n",
        "cluster_assignments.sort_values(by='Cluster', inplace=True)\n",
        "cluster_assignments.reset_index(drop=True, inplace=True)\n",
        "\n",
        "# display the dataframe\n",
        "print(cluster_assignments)"
      ],
      "metadata": {
        "colab": {
          "base_uri": "https://localhost:8080/"
        },
        "id": "7V6SidQ6p3N9",
        "outputId": "e1a504c8-82ce-40ea-b5bb-77debd6bd552"
      },
      "execution_count": 21,
      "outputs": [
        {
          "output_type": "stream",
          "name": "stdout",
          "text": [
            "                    Document  Cluster\n",
            "0        The cat in the hat.        0\n",
            "1     The cat is on the mat.        0\n",
            "2          The mat is green.        0\n",
            "3  The cat chased the mouse.        0\n",
            "4     The green mat is soft.        0\n",
            "5        The mouse ran away.        0\n",
            "6       Dogs are on the mat.        1\n",
            "7   Dogs bark and cats meow.        1\n",
            "8           Dogs like bones.        1\n",
            "9            Cats like milk.        1\n"
          ]
        }
      ]
    },
    {
      "cell_type": "markdown",
      "source": [
        "#  Application 3: Text Summarization"
      ],
      "metadata": {
        "id": "uyaksPIQqhOF"
      }
    },
    {
      "cell_type": "code",
      "source": [
        "pip install nltk scikit-learn\n"
      ],
      "metadata": {
        "colab": {
          "base_uri": "https://localhost:8080/"
        },
        "id": "m5GGXF34p3lG",
        "outputId": "453e1943-e3b6-4cf0-8377-42972e07567e"
      },
      "execution_count": 22,
      "outputs": [
        {
          "output_type": "stream",
          "name": "stdout",
          "text": [
            "Requirement already satisfied: nltk in /usr/local/lib/python3.10/dist-packages (3.8.1)\n",
            "Requirement already satisfied: scikit-learn in /usr/local/lib/python3.10/dist-packages (1.3.2)\n",
            "Requirement already satisfied: click in /usr/local/lib/python3.10/dist-packages (from nltk) (8.1.7)\n",
            "Requirement already satisfied: joblib in /usr/local/lib/python3.10/dist-packages (from nltk) (1.4.2)\n",
            "Requirement already satisfied: regex>=2021.8.3 in /usr/local/lib/python3.10/dist-packages (from nltk) (2024.5.15)\n",
            "Requirement already satisfied: tqdm in /usr/local/lib/python3.10/dist-packages (from nltk) (4.66.5)\n",
            "Requirement already satisfied: numpy<2.0,>=1.17.3 in /usr/local/lib/python3.10/dist-packages (from scikit-learn) (1.26.4)\n",
            "Requirement already satisfied: scipy>=1.5.0 in /usr/local/lib/python3.10/dist-packages (from scikit-learn) (1.13.1)\n",
            "Requirement already satisfied: threadpoolctl>=2.0.0 in /usr/local/lib/python3.10/dist-packages (from scikit-learn) (3.5.0)\n"
          ]
        }
      ]
    },
    {
      "cell_type": "code",
      "source": [
        "import nltk\n",
        "from sklearn.decomposition import TruncatedSVD\n",
        "from sklearn.feature_extraction.text import TfidfVectorizer\n",
        "from nltk.tokenize import sent_tokenize\n",
        "\n",
        "nltk.download('punkt')\n",
        "\n",
        "# Sample document for summarization\n",
        "document = \"\"\"\n",
        "Natural language processing (NLP) is a subfield of linguistics, computer science, and artificial intelligence concerned with the interactions between computers and human language, in particular how to program computers to process and analyze large amounts of natural language data.\n",
        "Challenges in natural language processing frequently involve speech recognition, natural language understanding, and natural language generation.\n",
        "The history of natural language processing generally started in the 1950s, although work can be found from earlier periods.\n",
        "In 1950, Alan Turing published an article titled \"Computing Machinery and Intelligence\" which proposed what is now called the Turing test as a criterion of intelligence.\n",
        "The Georgetown experiment in 1954 involved fully automatic translation of more than sixty Russian sentences into English.\n",
        "The authors claimed that within three or five years, machine translation would be a solved problem.\n",
        "However, real progress was much slower, and after the ALPAC report in 1966, which found that ten years of research had failed to fulfill the expectations, funding for machine translation was dramatically reduced.\n",
        "Little further research in machine translation was conducted until the late 1980s when the first statistical machine translation systems were developed.\n",
        "\"\"\"\n"
      ],
      "metadata": {
        "colab": {
          "base_uri": "https://localhost:8080/"
        },
        "id": "eLgABs1Tqi9B",
        "outputId": "5e47de1e-b54a-48b0-b38e-4e8868522384"
      },
      "execution_count": 23,
      "outputs": [
        {
          "output_type": "stream",
          "name": "stderr",
          "text": [
            "[nltk_data] Downloading package punkt to /root/nltk_data...\n",
            "[nltk_data]   Unzipping tokenizers/punkt.zip.\n"
          ]
        }
      ]
    },
    {
      "cell_type": "code",
      "source": [
        "#preprocessing data\n",
        "\n",
        "sentences = sent_tokenize(document)\n"
      ],
      "metadata": {
        "id": "jgfJpezRqkDf"
      },
      "execution_count": 24,
      "outputs": []
    },
    {
      "cell_type": "code",
      "source": [
        "# Convert Sentences to a Term-Document Matrix\n",
        "\n",
        "vectorizer = TfidfVectorizer()\n",
        "X = vectorizer.fit_transform(sentences)\n",
        "\n"
      ],
      "metadata": {
        "id": "eYAug-mTqm2j"
      },
      "execution_count": 26,
      "outputs": []
    },
    {
      "cell_type": "code",
      "source": [
        "# Apply LSA Using Truncated SVD\n",
        "#We'll reduce the dimensionality of the term-document matrix using Singular Value Decomposition (SVD).\n",
        "\n",
        "lsa = TruncatedSVD(n_components=1)  # We choose 1 component to focus on the main topic\n",
        "X_reduced = lsa.fit_transform(X)\n"
      ],
      "metadata": {
        "id": "Rw9FU_J0qpvg"
      },
      "execution_count": 27,
      "outputs": []
    },
    {
      "cell_type": "code",
      "source": [
        "# Rank Sentences by Their Importance\n",
        "\n",
        "# The sentences with the highest values in X_reduced are the most representative\n",
        "importance = X_reduced.flatten()\n",
        "ranked_sentences = [sentences[i] for i in importance.argsort()[::-1]]\n"
      ],
      "metadata": {
        "id": "aVuYbeihqvGb"
      },
      "execution_count": 28,
      "outputs": []
    },
    {
      "cell_type": "code",
      "source": [
        "# Generate the Summary\n",
        "# The top-ranked sentences are selected to form the summary.\n",
        "top_n = 3 #we'll take the top 3 sentences:\n",
        "summary = \" \".join(ranked_sentences[:top_n])\n",
        "print(\"Summary:\")\n",
        "print(summary)\n"
      ],
      "metadata": {
        "colab": {
          "base_uri": "https://localhost:8080/"
        },
        "id": "39CXGI4SqxKK",
        "outputId": "a7b6f50d-e4e4-4258-d35f-888ff2859c8b"
      },
      "execution_count": 31,
      "outputs": [
        {
          "output_type": "stream",
          "name": "stdout",
          "text": [
            "Summary:\n",
            "\n",
            "Natural language processing (NLP) is a subfield of linguistics, computer science, and artificial intelligence concerned with the interactions between computers and human language, in particular how to program computers to process and analyze large amounts of natural language data. Challenges in natural language processing frequently involve speech recognition, natural language understanding, and natural language generation. The history of natural language processing generally started in the 1950s, although work can be found from earlier periods.\n"
          ]
        }
      ]
    },
    {
      "cell_type": "markdown",
      "source": [],
      "metadata": {
        "id": "QVWDZsCOtEQ7"
      }
    },
    {
      "cell_type": "code",
      "source": [],
      "metadata": {
        "id": "aExXexTDqzR7"
      },
      "execution_count": null,
      "outputs": []
    }
  ]
}